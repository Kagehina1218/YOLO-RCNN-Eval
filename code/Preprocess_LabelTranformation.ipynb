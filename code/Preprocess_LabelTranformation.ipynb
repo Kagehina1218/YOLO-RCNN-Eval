{
  "nbformat": 4,
  "nbformat_minor": 0,
  "metadata": {
    "colab": {
      "provenance": []
    },
    "kernelspec": {
      "name": "python3",
      "display_name": "Python 3"
    },
    "language_info": {
      "name": "python"
    }
  },
  "cells": [
    {
      "cell_type": "markdown",
      "source": [
        "# Setup"
      ],
      "metadata": {
        "id": "IVDmpUyd8BAG"
      }
    },
    {
      "cell_type": "code",
      "source": [
        "import os\n",
        "import cv2\n",
        "import torch\n",
        "import json\n",
        "import shutil\n",
        "\n",
        "from PIL import Image"
      ],
      "metadata": {
        "id": "Bqh9rQkT8DAa"
      },
      "execution_count": null,
      "outputs": []
    },
    {
      "cell_type": "code",
      "source": [
        "from google.colab import drive\n",
        "drive.mount('/content/drive')"
      ],
      "metadata": {
        "id": "R8p7Urdn8GA7"
      },
      "execution_count": null,
      "outputs": []
    },
    {
      "cell_type": "markdown",
      "source": [
        "# Dataset matching"
      ],
      "metadata": {
        "id": "GjEvGoKPUCBp"
      }
    },
    {
      "cell_type": "markdown",
      "source": [
        "## Initialize"
      ],
      "metadata": {
        "id": "PkNeoeXcv7XA"
      }
    },
    {
      "cell_type": "code",
      "source": [
        "id_class = {\n",
        "    \"0\": \"background\",\n",
        "    \"1\": \"person\",\n",
        "    \"2\": \"bicycle\",\n",
        "    \"3\": \"car\",\n",
        "    \"4\": \"motorcycle\",\n",
        "    \"5\": \"airplane\",\n",
        "    \"6\": \"bus\",\n",
        "    \"7\": \"train\",\n",
        "    \"8\": \"truck\",\n",
        "    \"9\": \"boat\",\n",
        "    \"10\": \"traffic light\",\n",
        "    \"11\": \"fire hydrant\",\n",
        "    \"12\": \"stop sign\",\n",
        "    \"13\": \"parking meter\",\n",
        "    \"14\": \"bench\",\n",
        "    \"15\": \"bird\",\n",
        "    \"16\": \"cat\",\n",
        "    \"17\": \"dog\",\n",
        "    \"18\": \"horse\",\n",
        "    \"19\": \"sheep\",\n",
        "    \"20\": \"cow\",\n",
        "    \"21\": \"elephant\",\n",
        "    \"22\": \"bear\",\n",
        "    \"23\": \"zebra\",\n",
        "    \"24\": \"giraffe\",\n",
        "    \"25\": \"backpack\",\n",
        "    \"26\": \"umbrella\",\n",
        "    \"27\": \"handbag\",\n",
        "    \"28\": \"tie\",\n",
        "    \"29\": \"suitcase\",\n",
        "    \"30\": \"frisbee\",\n",
        "    \"31\": \"skis\",\n",
        "    \"32\": \"snowboard\",\n",
        "    \"33\": \"sports ball\",\n",
        "    \"34\": \"kite\",\n",
        "    \"35\": \"baseball bat\",\n",
        "    \"36\": \"baseball glove\",\n",
        "    \"37\": \"skateboard\",\n",
        "    \"38\": \"surfboard\",\n",
        "    \"39\": \"tennis racket\",\n",
        "    \"40\": \"bottle\",\n",
        "    \"41\": \"wine glass\",\n",
        "    \"42\": \"cup\",\n",
        "    \"43\": \"fork\",\n",
        "    \"44\": \"knife\",\n",
        "    \"45\": \"spoon\",\n",
        "    \"46\": \"bowl\",\n",
        "    \"47\": \"banana\",\n",
        "    \"48\": \"apple\",\n",
        "    \"49\": \"sandwich\",\n",
        "    \"50\": \"orange\",\n",
        "    \"51\": \"broccoli\",\n",
        "    \"52\": \"carrot\",\n",
        "    \"53\": \"hot dog\",\n",
        "    \"54\": \"pizza\",\n",
        "    \"55\": \"donut\",\n",
        "    \"56\": \"cake\",\n",
        "    \"57\": \"chair\",\n",
        "    \"58\": \"couch\",\n",
        "    \"59\": \"potted plant\",\n",
        "    \"60\": \"bed\",\n",
        "    \"61\": \"dining table\",\n",
        "    \"62\": \"toilet\",\n",
        "    \"63\": \"tv\",\n",
        "    \"64\": \"laptop\",\n",
        "    \"65\": \"mouse\",\n",
        "    \"66\": \"remote\",\n",
        "    \"67\": \"keyboard\",\n",
        "    \"68\": \"cell phone\",\n",
        "    \"69\": \"microwave\",\n",
        "    \"70\": \"oven\",\n",
        "    \"71\": \"toaster\",\n",
        "    \"72\": \"sink\",\n",
        "    \"73\": \"refrigerator\",\n",
        "    \"74\": \"book\",\n",
        "    \"75\": \"clock\",\n",
        "    \"76\": \"vase\",\n",
        "    \"77\": \"scissors\",\n",
        "    \"78\": \"teddy bear\",\n",
        "    \"79\": \"hair drier\",\n",
        "    \"80\": \"toothbrush\"\n",
        "}"
      ],
      "metadata": {
        "id": "CeLrWgTSUEky"
      },
      "execution_count": null,
      "outputs": []
    },
    {
      "cell_type": "code",
      "source": [
        "class_id = {\n",
        "    \"ambulance\": 0,\n",
        "    \"army vehicle\": 1,\n",
        "    \"auto rickshaw\": 2,\n",
        "    \"bicycle\": 3,\n",
        "    \"bus\": 4,\n",
        "    \"car\": 5,\n",
        "    \"garbagevan\": 6,\n",
        "    \"human hauler\": 7,\n",
        "    \"minibus\": 8,\n",
        "    \"minivan\": 9,\n",
        "    \"motorbike\": 10,\n",
        "    \"pickup\": 11,\n",
        "    \"policecar\": 12,\n",
        "    \"rickshaw\": 13,\n",
        "    \"scooter\": 14,\n",
        "    \"suv\": 15,\n",
        "    \"taxi\": 16,\n",
        "    \"three wheelers -CNG-\": 17,\n",
        "    \"truck\": 18,\n",
        "    \"van\": 19,\n",
        "    \"wheelbarrow\": 20,\n",
        "    \"background\": 21,\n",
        "    \"person\": 22,\n",
        "    \"airplane\": 23,\n",
        "    \"motorcycle\": 24,\n",
        "    \"train\": 25,\n",
        "    \"boat\": 26,\n",
        "    \"traffic light\": 27,\n",
        "    \"fire hydrant\": 28,\n",
        "    \"stop sign\": 29,\n",
        "    \"parking meter\": 30,\n",
        "    \"bench\": 31,\n",
        "    \"bird\": 32,\n",
        "    \"cat\": 33,\n",
        "    \"dog\": 34,\n",
        "    \"horse\": 35,\n",
        "    \"sheep\": 36,\n",
        "    \"cow\": 37,\n",
        "    \"elephant\": 38,\n",
        "    \"bear\": 39,\n",
        "    \"zebra\": 40,\n",
        "    \"giraffe\": 41,\n",
        "    \"backpack\": 42,\n",
        "    \"umbrella\": 43,\n",
        "    \"handbag\": 44,\n",
        "    \"tie\": 45,\n",
        "    \"suitcase\": 46,\n",
        "    \"frisbee\": 47,\n",
        "    \"skis\": 48,\n",
        "    \"snowboard\": 49,\n",
        "    \"sports ball\": 50,\n",
        "    \"kite\": 51,\n",
        "    \"baseball bat\": 52,\n",
        "    \"baseball glove\": 53,\n",
        "    \"skateboard\": 54,\n",
        "    \"surfboard\": 55,\n",
        "    \"tennis racket\": 56,\n",
        "    \"bottle\": 57,\n",
        "    \"wine glass\": 58,\n",
        "    \"cup\": 59,\n",
        "    \"fork\": 60,\n",
        "    \"knife\": 61,\n",
        "    \"spoon\": 62,\n",
        "    \"bowl\": 63,\n",
        "    \"banana\": 64,\n",
        "    \"apple\": 65,\n",
        "    \"sandwich\": 66,\n",
        "    \"orange\": 67,\n",
        "    \"broccoli\": 68,\n",
        "    \"carrot\": 69,\n",
        "    \"hot dog\": 70,\n",
        "    \"pizza\": 71,\n",
        "    \"donut\": 72,\n",
        "    \"cake\": 73,\n",
        "    \"chair\": 74,\n",
        "    \"couch\": 75,\n",
        "    \"potted plant\": 76,\n",
        "    \"bed\": 77,\n",
        "    \"dining table\": 78,\n",
        "    \"toilet\": 79,\n",
        "    \"tv\": 80,\n",
        "    \"laptop\": 81,\n",
        "    \"mouse\": 82,\n",
        "    \"remote\": 83,\n",
        "    \"keyboard\": 84,\n",
        "    \"cell phone\": 85,\n",
        "    \"microwave\": 86,\n",
        "    \"oven\": 87,\n",
        "    \"toaster\": 88,\n",
        "    \"sink\": 89,\n",
        "    \"refrigerator\": 90,\n",
        "    \"book\": 91,\n",
        "    \"clock\": 92,\n",
        "    \"vase\": 93,\n",
        "    \"scissors\": 94,\n",
        "    \"teddy bear\": 95,\n",
        "    \"hair drier\": 96,\n",
        "    \"toothbrush\": 97\n",
        "}"
      ],
      "metadata": {
        "id": "FwNfKM0Nu4HN"
      },
      "execution_count": null,
      "outputs": []
    },
    {
      "cell_type": "markdown",
      "source": [
        "## Function"
      ],
      "metadata": {
        "id": "hfP0Pm1XvIlX"
      }
    },
    {
      "cell_type": "code",
      "source": [
        "def rename_label(input_file, output_file):\n",
        "  with open(input_file, \"r\") as infile, open(output_file, \"w\") as outfile:\n",
        "      for line in infile:\n",
        "          words = line.strip().split()\n",
        "          new_line = []\n",
        "          for word in words:\n",
        "            if word in id_class:\n",
        "              class_name = id_class.get(word)\n",
        "              id_new = class_id.get(class_name)\n",
        "              new_line.append(str(id_new))\n",
        "            else:\n",
        "              new_line.append(word)\n",
        "          outfile.write(\" \".join(new_line) + \"\\n\")"
      ],
      "metadata": {
        "id": "V65OQerAwBZq"
      },
      "execution_count": null,
      "outputs": []
    },
    {
      "cell_type": "code",
      "source": [
        "def remove_label(input_file, output_file, nc=21):\n",
        "  with open(input_file, \"r\") as infile, open(output_file, \"w\") as outfile:\n",
        "    # For each line, split the each part\n",
        "    for line in infile:\n",
        "      words = line.strip().split()\n",
        "      new_line = []\n",
        "      # For each word, tranform the id\n",
        "      id = words[0]\n",
        "      if int(id) < nc:\n",
        "        outfile.write(line)"
      ],
      "metadata": {
        "id": "UPJnTr7VOvCk"
      },
      "execution_count": null,
      "outputs": []
    },
    {
      "cell_type": "markdown",
      "source": [
        "## Start"
      ],
      "metadata": {
        "id": "H0HExvZ9v9xW"
      }
    },
    {
      "cell_type": "code",
      "source": [
        "ROOT = ''"
      ],
      "metadata": {
        "id": "CGcHY3VYDvV7"
      },
      "execution_count": null,
      "outputs": []
    },
    {
      "cell_type": "code",
      "source": [
        "input_dir = ROOT + \"\"\n",
        "output_dir = ROOT + \"\""
      ],
      "metadata": {
        "id": "nB3HqOqADkVu"
      },
      "execution_count": null,
      "outputs": []
    },
    {
      "cell_type": "code",
      "source": [
        "for root, _, files in os.walk(input_dir):\n",
        "    for file in files:\n",
        "      rename_label(input_dir+'/'+ file, output_dir+'/'+ file)"
      ],
      "metadata": {
        "id": "6nqFP0a9H8nD",
        "collapsed": true
      },
      "execution_count": null,
      "outputs": []
    },
    {
      "cell_type": "markdown",
      "source": [
        "# Dataset comparison"
      ],
      "metadata": {
        "id": "CoiC9oNDF5NZ"
      }
    },
    {
      "cell_type": "code",
      "source": [
        "labels_root = ''\n",
        "images_root = ''"
      ],
      "metadata": {
        "id": "CewJsfh8tDS-"
      },
      "execution_count": null,
      "outputs": []
    },
    {
      "cell_type": "code",
      "source": [
        "def compare_files(text_folder, image_folder):\n",
        "    text_files = {os.path.splitext(f)[0] for f in os.listdir(text_folder) if f.endswith('.txt')}\n",
        "    image_files = {os.path.splitext(f)[0] for f in os.listdir(image_folder) if f.endswith('.jpg')}\n",
        "    missing_text_files = image_files - text_files\n",
        "    missing_image_files = text_files - image_files\n",
        "\n",
        "    if missing_text_files:\n",
        "        print(\"Missing text files for the following images:\")\n",
        "        for file in missing_text_files:\n",
        "            print(f\"{file}.jpg\")\n",
        "    else:\n",
        "        print(\"No missing text files for images.\")\n",
        "\n",
        "    if missing_image_files:\n",
        "        print(\"Missing images for the following text files:\")\n",
        "        for file in missing_image_files:\n",
        "            print(f\"{file}.txt\")\n",
        "    else:\n",
        "        print(\"No missing images for text files.\")"
      ],
      "metadata": {
        "id": "Py7h5d-1F7BI"
      },
      "execution_count": null,
      "outputs": []
    },
    {
      "cell_type": "code",
      "source": [
        "compare_files(labels_root, images_root)"
      ],
      "metadata": {
        "id": "jTRDfF0ZHoQv",
        "collapsed": true
      },
      "execution_count": null,
      "outputs": []
    },
    {
      "cell_type": "markdown",
      "source": [
        "# Dataset filtering"
      ],
      "metadata": {
        "id": "YrZ6DgEK7yZx"
      }
    },
    {
      "cell_type": "code",
      "source": [
        "missing_array = []\n",
        "\n",
        "for file in os.listdir(labels_root):\n",
        "    if not file.endswith('.txt'):\n",
        "        continue\n",
        "\n",
        "    label_path = os.path.join(labels_root, file)\n",
        "\n",
        "    image_file = file.replace('.txt', '.jpg')\n",
        "    image_path = os.path.join(images_root, image_file)\n",
        "\n",
        "    if not os.path.exists(image_path):\n",
        "        missing_array.append(image_file)\n",
        "        print(f\"Skipping missing image: {image_path}\")\n",
        "        continue\n",
        "\n",
        "    with Image.open(image_path) as img:\n",
        "        img_w, img_h = img.size\n",
        "\n",
        "    output_lines = []\n",
        "    with open(label_path, 'r') as f:\n",
        "        for line in f:\n",
        "            parts = line.strip().split()\n",
        "            if len(parts) != 5:\n",
        "                continue\n",
        "            class_id = int(parts[0])\n",
        "            bbox = list(map(float, parts[1:]))\n",
        "            xmin, ymin, xmax, ymax = yolo_to_f_rcnn(bbox, img_w, img_h)\n",
        "            output_lines.append(f\"{class_id} {xmin} {ymin} {xmax} {ymax}\")\n",
        "\n",
        "    os.makedirs(output_root, exist_ok=True)\n",
        "    output_file = os.path.join(output_root, file)\n",
        "\n",
        "    with open(output_file, 'w') as out_f:\n",
        "        out_f.write('\\n'.join(output_lines))\n",
        "\n",
        "    print(f\"Converted: {label_path} → {output_file}\")\n",
        "\n",
        "if missing_array:\n",
        "    print(\"\\nMissing images for the following label files:\")\n",
        "    for missing in missing_array:\n",
        "        print(missing)\n",
        "else:\n",
        "    print(\"\\nAll label files have matching images.\")"
      ],
      "metadata": {
        "id": "XLPdi0ZLMmN_",
        "collapsed": true
      },
      "execution_count": null,
      "outputs": []
    }
  ]
}