{
  "nbformat": 4,
  "nbformat_minor": 0,
  "metadata": {
    "colab": {
      "provenance": [],
      "collapsed_sections": [
        "HW7RRMHXuuYN",
        "nzmJXSadvJBj",
        "GtU967CcP2hA",
        "CRkdFwzWaADg"
      ],
      "gpuType": "L4"
    },
    "kernelspec": {
      "name": "python3",
      "display_name": "Python 3"
    },
    "language_info": {
      "name": "python"
    },
    "accelerator": "GPU"
  },
  "cells": [
    {
      "cell_type": "markdown",
      "source": [
        "# Setup"
      ],
      "metadata": {
        "id": "HW7RRMHXuuYN"
      }
    },
    {
      "cell_type": "code",
      "source": [
        "!pip install ultralytics"
      ],
      "metadata": {
        "id": "Gob_FG_oVDd0",
        "collapsed": true
      },
      "execution_count": null,
      "outputs": []
    },
    {
      "cell_type": "code",
      "source": [
        "!pip install torch torchvision --quiet"
      ],
      "metadata": {
        "id": "0_o-GyaMZPac"
      },
      "execution_count": null,
      "outputs": []
    },
    {
      "cell_type": "code",
      "execution_count": null,
      "metadata": {
        "id": "5iad2FIVAvqW"
      },
      "outputs": [],
      "source": [
        "# Import required libraries\n",
        "import os\n",
        "import cv2\n",
        "import numpy as np\n",
        "import pandas as pd\n",
        "import matplotlib.pyplot as plt\n",
        "from PIL import Image\n",
        "import random\n",
        "from tqdm import tqdm\n",
        "import torch\n",
        "\n",
        "from ultralytics import YOLO\n",
        "from ultralytics.data.utils import check_det_dataset\n",
        "\n",
        "from sklearn.metrics import precision_score, recall_score\n",
        "from sklearn.model_selection import train_test_split\n",
        "import shutil\n",
        "from collections import defaultdict\n",
        "\n",
        "from torchvision.models.detection import fasterrcnn_resnet50_fpn\n",
        "from torchvision.models.detection.faster_rcnn import FastRCNNPredictor\n",
        "from torchvision.transforms import functional as F\n",
        "import requests\n",
        "from io import BytesIO"
      ]
    },
    {
      "cell_type": "code",
      "source": [
        "from google.colab import drive\n",
        "drive.mount('/content/drive')"
      ],
      "metadata": {
        "id": "FI6gM4Iocmj2"
      },
      "execution_count": null,
      "outputs": []
    },
    {
      "cell_type": "code",
      "source": [
        "ROOT = '' # root path"
      ],
      "metadata": {
        "id": "fsHLU13yV78P"
      },
      "execution_count": null,
      "outputs": []
    },
    {
      "cell_type": "markdown",
      "source": [
        "# YOLOv12n"
      ],
      "metadata": {
        "id": "MIpkGgOZvDT5"
      }
    },
    {
      "cell_type": "markdown",
      "source": [
        "## Experiment"
      ],
      "metadata": {
        "id": "zXSnFtu3M-T7"
      }
    },
    {
      "cell_type": "code",
      "source": [
        "model_12_1 = YOLO(\"yolo12n.pt\")"
      ],
      "metadata": {
        "id": "6P6OlrvKcD7j"
      },
      "execution_count": null,
      "outputs": []
    },
    {
      "cell_type": "code",
      "source": [
        "results_1 = model_12.train(data=os.path.join(ROOT, ''), epochs=5, batch=32) # load the yaml file"
      ],
      "metadata": {
        "collapsed": true,
        "id": "6_UFEnakcGQS"
      },
      "execution_count": null,
      "outputs": []
    },
    {
      "cell_type": "markdown",
      "source": [],
      "metadata": {
        "id": "M1xFSC5HManc"
      }
    },
    {
      "cell_type": "code",
      "source": [
        "metrics_1 = model_12_1.val(data=os.path.join(ROOT, ''), split='test') # load the yaml file"
      ],
      "metadata": {
        "id": "idMAjNdyiuVy"
      },
      "execution_count": null,
      "outputs": []
    }
  ]
}